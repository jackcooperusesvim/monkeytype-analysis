{
 "cells": [
  {
   "cell_type": "code",
   "execution_count": null,
   "id": "2b141891-7d23-4350-b829-725497829350",
   "metadata": {},
   "outputs": [],
   "source": [
    "import polars as pl\n",
    "import seaborn as sns\n",
    "import filters as fl\n",
    "import matplotlib.pyplot as plt\n",
    "from sklearn.linear_model import LinearRegression"
   ]
  },
  {
   "cell_type": "code",
   "execution_count": null,
   "id": "c430b1af-e0ff-4fd6-afed-8aa91fcfd726",
   "metadata": {
    "scrolled": true
   },
   "outputs": [],
   "source": [
    "dta = fl.import_filt('new','old','qwert_col','colemak')\n",
    "x = dta.to_pandas()\n",
    "xarst = dta.to_pandas()[['wpm','acc','consistency','testType','restartCount','timeIndex']]\n",
    "sns.pairplot(xarst)"
   ]
  },
  {
   "cell_type": "code",
   "execution_count": null,
   "id": "e64f3182-628a-4ca6-bd5b-8db725c14612",
   "metadata": {},
   "outputs": [],
   "source": [
    "xqwfp = fl.graph_ops(dta).to_pandas()[['wpm','acc','consistency','testType','restartCountAdjusted','timeIndex','dataGroup']]\n",
    "sns.relplot(xqwfp,y='wpm',x='timeIndex',hue='restartCountAdjusted')"
   ]
  },
  {
   "cell_type": "code",
   "execution_count": null,
   "id": "aa8890e9-19fc-4e19-829d-9ca55b5779f6",
   "metadata": {},
   "outputs": [],
   "source": [
    "arst = fl.graph_ops(dta).to_pandas()\n",
    "sns.relplot(arst,y='AvgWpmComparison',x='restartCountAdjusted',hue='dataGroup',col='dataGroup')"
   ]
  },
  {
   "cell_type": "code",
   "execution_count": null,
   "id": "c4f4bcb0-7dc3-4e68-ba28-07cfd21cf390",
   "metadata": {},
   "outputs": [],
   "source": [
    "sns.kdeplot(data=x,x='extra',y='missed',clip=[[0,50],[0,50]],fill=True)"
   ]
  },
  {
   "cell_type": "code",
   "execution_count": null,
   "id": "66cf564e-2781-46aa-b8a3-3ad0c677c9dd",
   "metadata": {},
   "outputs": [],
   "source": [
    "sns.kdeplot(data=x,x='incorrect',y='missed',clip=[[0,70],[0,70]],fill=True)"
   ]
  },
  {
   "cell_type": "code",
   "execution_count": null,
   "id": "becceb78-5679-4693-8e79-cd6c48614670",
   "metadata": {},
   "outputs": [],
   "source": [
    "sns.kdeplot(data=x,x='incorrect',y='extra',clip=[[0,50],[0,50]],fill=True)"
   ]
  },
  {
   "cell_type": "code",
   "execution_count": null,
   "id": "d7ea7cac-f9fa-4d39-8a34-dcb19480ea3f",
   "metadata": {},
   "outputs": [],
   "source": [
    "dta2 = fl.import_filt('colemak','qwert_col')\n",
    "x2 = dta2.to_pandas()[['wpm','acc','consistency','timestamp','testDuration','incorrect','missed','extra','testType','dataGroup']]"
   ]
  },
  {
   "cell_type": "code",
   "execution_count": null,
   "id": "a1849595-d206-4616-93e2-89c356a8649a",
   "metadata": {},
   "outputs": [],
   "source": [
    "sns.pairplot(x2,hue='dataGroup')"
   ]
  },
  {
   "cell_type": "code",
   "execution_count": null,
   "id": "12dd4222-b8f0-463b-96cd-95f1ae53d028",
   "metadata": {},
   "outputs": [],
   "source": [
    "sns.relplot(x2,x='acc',y='wpm',hue='dataGroup')"
   ]
  },
  {
   "cell_type": "code",
   "execution_count": null,
   "id": "269505e3-14d5-47fe-8db2-e39e870181be",
   "metadata": {},
   "outputs": [],
   "source": [
    "colemakAccWpm = LinearRegression().fit(X=x2[['acc']],y=x2[['wpm']])\n",
    "qwertyAccWpm = LinearRegression().fit(X=x[['acc']],y=x[['wpm']])"
   ]
  },
  {
   "cell_type": "code",
   "execution_count": null,
   "id": "6a14c7a8-f28d-4132-8a4d-cc9c92d5db3b",
   "metadata": {},
   "outputs": [],
   "source": [
    "print(colemakAccWpm.score(X=x2[['acc']],y=x2[['wpm']]))\n",
    "print(qwertyAccWpm.score(X=x[['acc']],y=x[['wpm']]))"
   ]
  },
  {
   "cell_type": "code",
   "execution_count": null,
   "id": "3a89d745-7f62-47a3-a40f-15acac9d28b8",
   "metadata": {},
   "outputs": [],
   "source": [
    "print(f\"colemak line: \\n\\tslope: {colemakAccWpm.coef_[0][0]}\\n\\tintercept: {colemakAccWpm.intercept_[0]}\")\n",
    "print(f\"qwerty line: \\n\\tslope: {qwertyAccWpm.coef_[0][0]}\\n\\tintercept: {qwertyAccWpm.intercept_[0]}\")"
   ]
  },
  {
   "cell_type": "code",
   "execution_count": null,
   "id": "6b3a2888-eb43-41b9-8353-3d87441c7f28",
   "metadata": {},
   "outputs": [],
   "source": [
    "dta3 = fl.import_filt('new','old','colemak','qwert_col')\n",
    "z = dta3.to_pandas()\n",
    "sns.relplot(z,x='timestamp',y='wpm')"
   ]
  },
  {
   "cell_type": "code",
   "execution_count": null,
   "id": "5c12c4d0-57de-43fd-8555-fdc85eda2b09",
   "metadata": {},
   "outputs": [],
   "source": [
    "sns.relplot(z,x='acc',y='wpm',col='dataGroup',hue='dataGroup')"
   ]
  },
  {
   "cell_type": "code",
   "execution_count": null,
   "id": "48d5b172-1848-4a03-aba6-61f80d48f15d",
   "metadata": {},
   "outputs": [],
   "source": [
    "sns.relplot(z,x='acc',y='wpm',size='wpm',sizes=(20,20),hue='dataGroup')"
   ]
  },
  {
   "cell_type": "code",
   "execution_count": null,
   "id": "8c051923-5eca-4229-9be5-1d247fc24c13",
   "metadata": {},
   "outputs": [],
   "source": [
    "sns.relplot(data=z,x='timeIndex',y='wpm')"
   ]
  },
  {
   "cell_type": "code",
   "execution_count": null,
   "id": "96b57c42-545e-4ad3-9296-d599596128fe",
   "metadata": {},
   "outputs": [],
   "source": []
  }
 ],
 "metadata": {
  "kernelspec": {
   "display_name": "Python 3 (ipykernel)",
   "language": "python",
   "name": "python3"
  },
  "language_info": {
   "codemirror_mode": {
    "name": "ipython",
    "version": 3
   },
   "file_extension": ".py",
   "mimetype": "text/x-python",
   "name": "python",
   "nbconvert_exporter": "python",
   "pygments_lexer": "ipython3",
   "version": "3.12.5"
  }
 },
 "nbformat": 4,
 "nbformat_minor": 5
}
